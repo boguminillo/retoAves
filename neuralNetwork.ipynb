{
 "cells": [
  {
   "cell_type": "code",
   "execution_count": 33,
   "metadata": {},
   "outputs": [],
   "source": [
    "import pandas as pd\n",
    "from sklearn.preprocessing import StandardScaler\n",
    "from sklearn.model_selection import train_test_split\n",
    "from sklearn.neural_network import MLPRegressor\n",
    "from sklearn.metrics import mean_squared_error\n",
    "from sklearn.pipeline import make_pipeline\n",
    "from sklearn.compose import TransformedTargetRegressor\n",
    "from sklearn.preprocessing import QuantileTransformer\n",
    "from sklearn.svm import OneClassSVM\n",
    "from sklearn.metrics import roc_auc_score"
   ]
  },
  {
   "cell_type": "code",
   "execution_count": 34,
   "metadata": {},
   "outputs": [],
   "source": [
    "birdData = pd.read_csv(\"assets/data/birdData.csv\")"
   ]
  },
  {
   "cell_type": "code",
   "execution_count": 35,
   "metadata": {},
   "outputs": [],
   "source": [
    "# remove locName and exoticCategory columns\n",
    "birdData = birdData.drop(columns=[\"locName\", \"exoticCategoryN\", \"exoticCategoryP\", \"exoticCategoryX\"])"
   ]
  },
  {
   "cell_type": "code",
   "execution_count": null,
   "metadata": {},
   "outputs": [],
   "source": [
    "# remove outliers\n",
    "birdData = birdData[birdData[\"howMany\"] < 5]"
   ]
  },
  {
   "cell_type": "code",
   "execution_count": 36,
   "metadata": {},
   "outputs": [],
   "source": [
    "# scale the data\n",
    "scaler = StandardScaler()\n",
    "birdData[[\"lat\", \"lng\", \"tmed\", \"prec\", \"velmedia\", \"year\", \"month\", \"day\"]] = scaler.fit_transform(birdData[[\"lat\", \"lng\", \"tmed\", \"prec\", \"velmedia\", \"year\", \"month\", \"day\"]])"
   ]
  },
  {
   "cell_type": "code",
   "execution_count": 37,
   "metadata": {},
   "outputs": [],
   "source": [
    "# one-hot encode the sciName column\n",
    "birdData = pd.get_dummies(birdData, columns=[\"sciName\"])"
   ]
  },
  {
   "cell_type": "code",
   "execution_count": null,
   "metadata": {},
   "outputs": [],
   "source": [
    "# split the data\n",
    "X = birdData.drop(columns=[\"howMany\"])\n",
    "y = birdData[\"howMany\"]\n",
    "X_train, X_test, y_train, y_test = train_test_split(X, y, test_size=0.2, random_state=42)"
   ]
  },
  {
   "cell_type": "code",
   "execution_count": null,
   "metadata": {},
   "outputs": [],
   "source": [
    "# create a neural network to predict the howMany column\n",
    "nn = MLPRegressor(hidden_layer_sizes=(200), max_iter=1000, learning_rate_init=1, learning_rate=\"adaptive\", verbose=True, random_state=42)\n",
    "nn.fit(X_train, y_train)\n",
    "y_pred = nn.predict(X_test)\n",
    "\n",
    "# print the root mean squared error\n",
    "print(mean_squared_error(y_test, y_pred, squared=False))\n"
   ]
  },
  {
   "cell_type": "code",
   "execution_count": null,
   "metadata": {},
   "outputs": [],
   "source": [
    "# create a transformer model to predict the howMany column\n",
    "nn = MLPRegressor(hidden_layer_sizes=(200), max_iter=1000, learning_rate_init=1, learning_rate=\"adaptive\", verbose=True, random_state=42)\n",
    "model = make_pipeline(\n",
    "    QuantileTransformer(output_distribution='normal'),\n",
    "    TransformedTargetRegressor(regressor=nn, transformer=QuantileTransformer(output_distribution='normal'))\n",
    ")\n",
    "model.fit(X_train, y_train)\n",
    "y_pred = model.predict(X_test)\n",
    "\n",
    "# print the root mean squared error\n",
    "print(mean_squared_error(y_test, y_pred, squared=False))"
   ]
  },
  {
   "cell_type": "code",
   "execution_count": null,
   "metadata": {},
   "outputs": [],
   "source": [
    "# create a one class svm model dropping the howMany column\n",
    "model = OneClassSVM(verbose=True)\n",
    "model.fit(X_train)\n",
    "y_pred = model.predict(X_test)\n",
    "\n",
    "# create a set of binary labels with the size of the test set and all inliers]\n",
    "svm_test = [1] * len(X_test)\n",
    "\n",
    "# Assuming y_test is your true binary labels and y_score is the score predicted by the model\n",
    "y_score = model.decision_function(X_test)\n",
    "roc_auc = roc_auc_score(svm_test, y_score)\n",
    "print(f'AUROC: {roc_auc}')"
   ]
  }
 ],
 "metadata": {
  "kernelspec": {
   "display_name": "venv",
   "language": "python",
   "name": "python3"
  },
  "language_info": {
   "codemirror_mode": {
    "name": "ipython",
    "version": 3
   },
   "file_extension": ".py",
   "mimetype": "text/x-python",
   "name": "python",
   "nbconvert_exporter": "python",
   "pygments_lexer": "ipython3",
   "version": "3.10.5"
  }
 },
 "nbformat": 4,
 "nbformat_minor": 2
}
